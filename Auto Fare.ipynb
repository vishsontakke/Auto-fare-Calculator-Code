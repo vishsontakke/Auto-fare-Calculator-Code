{
 "cells": [
  {
   "cell_type": "code",
   "execution_count": 2,
   "id": "cf6c9a6a",
   "metadata": {},
   "outputs": [
    {
     "name": "stdout",
     "output_type": "stream",
     "text": [
      "km you travelled :52\n",
      "total fare is : 420\n"
     ]
    }
   ],
   "source": [
    "distance=int(input(\"km you travelled :\"))\n",
    "# fare for first 50 km is 8rs/km\n",
    "if distance in range(1,51):\n",
    "    \n",
    "    fare=distance*8\n",
    "    print(\"total fare is :\",fare)\n",
    "    \n",
    "elif distance in range(50,101):\n",
    "# fare for  51-100 km is 10rs/km\n",
    "    distance=distance-50\n",
    "    fare=400+distance*10\n",
    "    print(\"total fare is :\",fare)\n",
    "    \n",
    "else:\n",
    "# fare for  100+ km is 12rs/km\n",
    "    distance=distance-100\n",
    "    fare=400+500+distance*12\n",
    "    print(\"total fare is :\",fare)\n",
    "    \n",
    "    \n",
    "# km you travelled :52\n",
    "# total fare is : 420"
   ]
  },
  {
   "cell_type": "code",
   "execution_count": null,
   "id": "6beed3f3",
   "metadata": {},
   "outputs": [],
   "source": []
  }
 ],
 "metadata": {
  "kernelspec": {
   "display_name": "Python 3 (ipykernel)",
   "language": "python",
   "name": "python3"
  },
  "language_info": {
   "codemirror_mode": {
    "name": "ipython",
    "version": 3
   },
   "file_extension": ".py",
   "mimetype": "text/x-python",
   "name": "python",
   "nbconvert_exporter": "python",
   "pygments_lexer": "ipython3",
   "version": "3.9.12"
  }
 },
 "nbformat": 4,
 "nbformat_minor": 5
}
